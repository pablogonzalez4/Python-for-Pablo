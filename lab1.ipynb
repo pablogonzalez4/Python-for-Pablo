{
  "cells": [
    {
      "cell_type": "markdown",
      "metadata": {
        "id": "view-in-github",
        "colab_type": "text"
      },
      "source": [
        "<a href=\"https://colab.research.google.com/github/pablogonzalez4/Python-for-Pablo/blob/main/lab1.ipynb\" target=\"_parent\"><img src=\"https://colab.research.google.com/assets/colab-badge.svg\" alt=\"Open In Colab\"/></a>"
      ]
    },
    {
      "cell_type": "markdown",
      "metadata": {
        "id": "xyMrTDyJV5KP"
      },
      "source": [
        "# Exercise 1.\n",
        "* Write a function that determines if a year (given as parameter) is a leap year or not.\n",
        "    * The function should return a Boolean value.\n",
        "    * A year is a leap year if it is divisible by 4, unless it is also divisible by 100, with the exception that a year divisible by 400 is a leap year."
      ]
    },
    {
      "cell_type": "code",
      "execution_count": null,
      "metadata": {
        "id": "I8kfJtXSV5KQ"
      },
      "outputs": [],
      "source": []
    },
    {
      "cell_type": "markdown",
      "metadata": {
        "id": "BRc_n3M2V5KR"
      },
      "source": [
        "# Exercise 2.\n",
        "* Write a function that takes two lists of integers as parameters, representing intervals.\n",
        "    * The function must check that each list contains exactly 2 elements, and computes the union of the two intervals.\n"
      ]
    },
    {
      "cell_type": "code",
      "source": [],
      "metadata": {
        "id": "amJFLUHchYqq"
      },
      "execution_count": null,
      "outputs": []
    },
    {
      "cell_type": "markdown",
      "metadata": {
        "id": "ktiL8oQeV5KR"
      },
      "source": [
        "# Exercise 3.\n",
        "* Write a function that determines if a number given as parameter is a perfect number.\n",
        "    * A perfect number is a positive integer equal to the sum of its positive proper divisors (divisors excluding the number itself)."
      ]
    },
    {
      "cell_type": "code",
      "source": [],
      "metadata": {
        "id": "IfYdSky-hbhE"
      },
      "execution_count": null,
      "outputs": []
    },
    {
      "cell_type": "markdown",
      "metadata": {
        "id": "PUr4EHtxV5KR"
      },
      "source": [
        "# Exercise 4.\n",
        "* Write a function that returns the min and max values of a list given as parameter."
      ]
    },
    {
      "cell_type": "code",
      "source": [
        "def min_max(l):\n",
        "  # min=0\n",
        "  # max=0\n",
        "  # return min, max\n",
        "  if len(l)==0:\n",
        "    return None\n",
        "  min=l[0]\n",
        "  max=l[0]\n",
        "  for nb in l: # for all number in the list (FOR LOOP)\n",
        "    if nb < min:\n",
        "      min = nb\n",
        "      print(f\"Found a new min:{min}\")\n",
        "    elif nb > max:\n",
        "      max = nb\n",
        "    return min, max"
      ],
      "metadata": {
        "id": "oKzHA7rwhl6K"
      },
      "execution_count": 11,
      "outputs": []
    },
    {
      "cell_type": "code",
      "source": [
        "l=[34,5,16,1,18]\n",
        "min,max = min_max(l) # a=min_max(l)"
      ],
      "metadata": {
        "id": "ldvnhTrG-Kq1"
      },
      "execution_count": 12,
      "outputs": []
    },
    {
      "cell_type": "code",
      "source": [
        "print(f\"min:{min}, max:{max}\") # print(a) & print(a[0])"
      ],
      "metadata": {
        "colab": {
          "base_uri": "https://localhost:8080/"
        },
        "id": "mhoZscT9-vHx",
        "outputId": "1cf8d5d7-f57d-4bd8-c9f8-8c4c475a94c1"
      },
      "execution_count": 14,
      "outputs": [
        {
          "output_type": "stream",
          "name": "stdout",
          "text": [
            "min:34, max:34\n"
          ]
        }
      ]
    },
    {
      "cell_type": "markdown",
      "metadata": {
        "id": "jx9EIBovV5KR"
      },
      "source": [
        "# Exercise 5.\n",
        "* Write a function that checks if a list given as parameter is a Fibonacci sequence."
      ]
    },
    {
      "cell_type": "code",
      "execution_count": 53,
      "metadata": {
        "id": "y0bNPPgsV5KS"
      },
      "outputs": [],
      "source": [
        "def isFibo(l):\n",
        "  if len(l)<3:\n",
        "    return False\n",
        "  if l[0]!=0:\n",
        "    return False\n",
        "  for i in range(2, len(l)):\n",
        "    if l[i]!=l[i-1]+l[i-2]:\n",
        "      return False\n",
        "    return True"
      ]
    },
    {
      "cell_type": "code",
      "source": [
        "l=[0,1,1,3,5,8,13]\n",
        "isFibo(l)"
      ],
      "metadata": {
        "id": "ZPvgNLh1DSUp",
        "outputId": "97fd133f-d384-48ef-b832-9c86405c50e0",
        "colab": {
          "base_uri": "https://localhost:8080/"
        }
      },
      "execution_count": 54,
      "outputs": [
        {
          "output_type": "execute_result",
          "data": {
            "text/plain": [
              "True"
            ]
          },
          "metadata": {},
          "execution_count": 54
        }
      ]
    },
    {
      "cell_type": "markdown",
      "metadata": {
        "id": "YtORIYaqV5KS"
      },
      "source": [
        "# Exercise 6.\n",
        "* Write a function that takes as input a two-dimensional list and computes the average for each row in the list.\n",
        "    * The function should return a list containing the average value of each row."
      ]
    },
    {
      "cell_type": "code",
      "execution_count": 38,
      "metadata": {
        "id": "JTPlfNtzV5KS"
      },
      "outputs": [],
      "source": [
        "# Two dimensional list, the list has 3 elemetns, each sub-list has 3 elements\n",
        "l=[[1,2,3],\n",
        "   [4,5,6],\n",
        "   [7,8,9]]\n",
        "#print(l[0],l[1]) -> gives the first two elemtns, which is the first list 1,2,3 and the second list 4,5,6\n",
        "\n",
        "def mean_per_line(l):\n",
        "  for i, line in enumerate(l):\n",
        "    sum = 0\n",
        "    for elt in line:\n",
        "      sum = sum + elt\n",
        "    print(f\"Avg for line {i+1}: {sum/len(line)}\")"
      ]
    },
    {
      "cell_type": "code",
      "source": [
        "mean_per_line(l)"
      ],
      "metadata": {
        "id": "OkrcX49-FXBP",
        "outputId": "8095059f-4872-44ef-adcb-e611967a684d",
        "colab": {
          "base_uri": "https://localhost:8080/"
        }
      },
      "execution_count": 39,
      "outputs": [
        {
          "output_type": "stream",
          "name": "stdout",
          "text": [
            "Avg for line 1: 2.0\n",
            "Avg for line 2: 5.0\n",
            "Avg for line 3: 8.0\n"
          ]
        }
      ]
    },
    {
      "cell_type": "code",
      "source": [
        "def getPrimeNumbers(n): # n = 100\n",
        "  p = 2\n",
        "  prime = [True]*n\n",
        "  prime[0] = False\n",
        "  prime [1] = False\n",
        "\n",
        "  foundPrime = True\n",
        "\n",
        "  while foundPrime:\n",
        "    for div in range(2*p,n,p):\n",
        "     prime[div] = False\n",
        "    p = p + 1\n",
        "    while p<len(prime) and prime[p]==False:\n",
        "      p = p + 1\n",
        "    if p == len(prime):\n",
        "      foundPrime = False\n",
        "  return[i for i, v in enumerate(prime) if v==True]"
      ],
      "metadata": {
        "id": "qvD6StS_GW2x"
      },
      "execution_count": 58,
      "outputs": []
    },
    {
      "cell_type": "code",
      "source": [
        "getPrimeNumbers(10)"
      ],
      "metadata": {
        "id": "ElxV3z4qIHVE",
        "outputId": "0b76ff37-d591-4d34-8922-c7d203ae3be0",
        "colab": {
          "base_uri": "https://localhost:8080/"
        }
      },
      "execution_count": 59,
      "outputs": [
        {
          "output_type": "execute_result",
          "data": {
            "text/plain": [
              "[2, 3, 5, 7]"
            ]
          },
          "metadata": {},
          "execution_count": 59
        }
      ]
    },
    {
      "cell_type": "code",
      "source": [
        "for i in range(2,10,2):\n",
        "  print(i)"
      ],
      "metadata": {
        "id": "5_2FLzIdHT6E",
        "outputId": "503b6ad7-4c03-4c82-8a15-ce7f3cf957d3",
        "colab": {
          "base_uri": "https://localhost:8080/"
        }
      },
      "execution_count": 60,
      "outputs": [
        {
          "output_type": "stream",
          "name": "stdout",
          "text": [
            "2\n",
            "4\n",
            "6\n",
            "8\n"
          ]
        }
      ]
    },
    {
      "cell_type": "code",
      "source": [
        "for v in getPrimeNumbers(1000):\n",
        "  print(v)"
      ],
      "metadata": {
        "id": "oz_FEvIIJCfe",
        "outputId": "e29d7645-d818-4b45-f527-22463ed3e2da",
        "colab": {
          "base_uri": "https://localhost:8080/"
        }
      },
      "execution_count": 61,
      "outputs": [
        {
          "output_type": "stream",
          "name": "stdout",
          "text": [
            "2\n",
            "3\n",
            "5\n",
            "7\n",
            "11\n",
            "13\n",
            "17\n",
            "19\n",
            "23\n",
            "29\n",
            "31\n",
            "37\n",
            "41\n",
            "43\n",
            "47\n",
            "53\n",
            "59\n",
            "61\n",
            "67\n",
            "71\n",
            "73\n",
            "79\n",
            "83\n",
            "89\n",
            "97\n",
            "101\n",
            "103\n",
            "107\n",
            "109\n",
            "113\n",
            "127\n",
            "131\n",
            "137\n",
            "139\n",
            "149\n",
            "151\n",
            "157\n",
            "163\n",
            "167\n",
            "173\n",
            "179\n",
            "181\n",
            "191\n",
            "193\n",
            "197\n",
            "199\n",
            "211\n",
            "223\n",
            "227\n",
            "229\n",
            "233\n",
            "239\n",
            "241\n",
            "251\n",
            "257\n",
            "263\n",
            "269\n",
            "271\n",
            "277\n",
            "281\n",
            "283\n",
            "293\n",
            "307\n",
            "311\n",
            "313\n",
            "317\n",
            "331\n",
            "337\n",
            "347\n",
            "349\n",
            "353\n",
            "359\n",
            "367\n",
            "373\n",
            "379\n",
            "383\n",
            "389\n",
            "397\n",
            "401\n",
            "409\n",
            "419\n",
            "421\n",
            "431\n",
            "433\n",
            "439\n",
            "443\n",
            "449\n",
            "457\n",
            "461\n",
            "463\n",
            "467\n",
            "479\n",
            "487\n",
            "491\n",
            "499\n",
            "503\n",
            "509\n",
            "521\n",
            "523\n",
            "541\n",
            "547\n",
            "557\n",
            "563\n",
            "569\n",
            "571\n",
            "577\n",
            "587\n",
            "593\n",
            "599\n",
            "601\n",
            "607\n",
            "613\n",
            "617\n",
            "619\n",
            "631\n",
            "641\n",
            "643\n",
            "647\n",
            "653\n",
            "659\n",
            "661\n",
            "673\n",
            "677\n",
            "683\n",
            "691\n",
            "701\n",
            "709\n",
            "719\n",
            "727\n",
            "733\n",
            "739\n",
            "743\n",
            "751\n",
            "757\n",
            "761\n",
            "769\n",
            "773\n",
            "787\n",
            "797\n",
            "809\n",
            "811\n",
            "821\n",
            "823\n",
            "827\n",
            "829\n",
            "839\n",
            "853\n",
            "857\n",
            "859\n",
            "863\n",
            "877\n",
            "881\n",
            "883\n",
            "887\n",
            "907\n",
            "911\n",
            "919\n",
            "929\n",
            "937\n",
            "941\n",
            "947\n",
            "953\n",
            "967\n",
            "971\n",
            "977\n",
            "983\n",
            "991\n",
            "997\n"
          ]
        }
      ]
    }
  ],
  "metadata": {
    "language_info": {
      "name": "python"
    },
    "colab": {
      "provenance": [],
      "include_colab_link": true
    },
    "kernelspec": {
      "name": "python3",
      "display_name": "Python 3"
    }
  },
  "nbformat": 4,
  "nbformat_minor": 0
}